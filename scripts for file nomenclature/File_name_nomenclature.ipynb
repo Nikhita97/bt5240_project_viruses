{
 "cells": [
  {
   "cell_type": "code",
   "execution_count": 63,
   "metadata": {},
   "outputs": [],
   "source": [
    "import os\n",
    "import glob"
   ]
  },
  {
   "cell_type": "code",
   "execution_count": 45,
   "metadata": {},
   "outputs": [
    {
     "name": "stdout",
     "output_type": "stream",
     "text": [
      "Epstein-Barr_virus.fa\n",
      "Hepatitis_B_virus.fa\n",
      "Human_adenovirus_C.fa\n",
      "Human_cytomegalovirus_.fa\n",
      "Human_herpesvirus_1.fa\n",
      "Human_herpesvirus_2.fa\n",
      "Human_herpesvirus_6A.fa\n",
      "Human_herpesvirus_6B.fa\n",
      "Human_herpesvirus_8_type_P.fa\n",
      "Human_papillomavirus_type_16.fa\n",
      "Human_papillomavirus_type_18.fa\n",
      "Human_papillomavirus_type_1a.fa\n",
      "Human_papillomavirus_type_4.fa\n",
      "Human_papillomavirus_type_5.fa\n",
      "Molluscum_contagiosum_virus.fa\n",
      "Orf_virus.fa\n",
      "Varicella-zoster_virus.fa\n",
      "Variola_virus.fa\n",
      "Yaba_monkey_tumor_virus.fa\n"
     ]
    }
   ],
   "source": [
    "f = open('/Users/nikhitadamaraju/Desktop/Systems Biology/Project/DNA_viruses/virus_list.txt') \n",
    "DNA_virus_list = f.read().splitlines()\n",
    "\n",
    "#script to name all the files \n",
    "path = '/Users/nikhitadamaraju/Desktop/Systems Biology/Project/DNA_viruses'\n",
    "os.chdir(path)\n",
    "\n",
    "filenames = glob.glob(\"./*.fa\")\n",
    "#storing filenames in order\n",
    "for i in range(0,len(DNA_virus_list)):\n",
    "    search = '('+str(i)+')'\n",
    "    old = [x for x in filenames if search in x]\n",
    "    new = DNA_virus_list[i]\n",
    "    new_path = './'+ new + \".fa\"\n",
    "    #print(old[0],new_path.replace(\" \",\"_\"))\n",
    "    print(new_path.replace(\" \",\"_\").strip('./'))\n",
    "    #os.rename(old[0],new_path)\n"
   ]
  },
  {
   "cell_type": "code",
   "execution_count": null,
   "metadata": {},
   "outputs": [],
   "source": []
  },
  {
   "cell_type": "code",
   "execution_count": 115,
   "metadata": {},
   "outputs": [
    {
     "name": "stdout",
     "output_type": "stream",
     "text": [
      "./string_protein_sequences (0).fa ./Bunyavirus La Crosse.fa\n",
      "./string_protein_sequences (1).fa ./Hantaan virus.fa\n",
      "./string_protein_sequences (2).fa ./Hendra virus.fa\n",
      "./string_protein_sequences (3).fa ./Human metapneumovirus.fa\n",
      "./string_protein_sequences (4).fa ./Human respiratory syncytial virus B.fa\n",
      "./string_protein_sequences (5).fa ./Influenza A virus.fa\n",
      "./string_protein_sequences (6).fa ./Influenza B virus.fa\n",
      "./string_protein_sequences (7).fa ./Influenza C virus.fa\n",
      "./string_protein_sequences (8).fa ./Lake Victoria marburgvirus.fa\n",
      "./string_protein_sequences (9).fa ./Lassa virus.fa\n",
      "./string_protein_sequences (10).fa ./Lymphocytic choriomeningitis virus.fa\n",
      "./string_protein_sequences (11).fa ./Measles virus.fa\n",
      "./string_protein_sequences (12).fa ./Mumps virus.fa\n",
      "./string_protein_sequences (13).fa ./Rabies virus.fa\n",
      "./string_protein_sequences (14).fa ./Rift valley fever virus.fa\n",
      "./string_protein_sequences (15).fa ./Vesicular stomatitis Indiana virus.fa\n",
      "./string_protein_sequences (16).fa ./Zaire ebolavirus.fa\n"
     ]
    }
   ],
   "source": [
    "f = open('/Users/nikhitadamaraju/Desktop/Systems Biology/Project/RNA_negative_viruses/virus_list.txt')\n",
    "RNA_negative_virus_list = f.read().splitlines()  \n",
    "path = '/Users/nikhitadamaraju/Desktop/Systems Biology/Project/RNA_negative_viruses'\n",
    "os.chdir(path)\n",
    "filenames = glob.glob(\"./*.fa\")\n",
    "#storing filenames in order\n",
    "for i in range(0,len(RNA_negative_virus_list)):\n",
    "    search = '('+str(i)+')'\n",
    "    old = [x for x in filenames if search in x]\n",
    "    new = RNA_negative_virus_list[i]\n",
    "    new_path = './'+ new + \".fa\"\n",
    "    print(old[0],new_path)\n",
    "    os.rename(old[0],new_path)"
   ]
  },
  {
   "cell_type": "code",
   "execution_count": 117,
   "metadata": {},
   "outputs": [
    {
     "name": "stdout",
     "output_type": "stream",
     "text": [
      "./string_protein_sequences (0).fa ./Chikungunya virus.fa\n",
      "./string_protein_sequences (1).fa ./Dengue virus type 2.fa\n",
      "./string_protein_sequences (2).fa ./Dengue virus type 3.fa\n",
      "./string_protein_sequences (3).fa ./Dengue virus type 4.fa\n",
      "./string_protein_sequences (4).fa ./Encephalomyocarditis virus.fa\n",
      "./string_protein_sequences (5).fa ./Hepatitis C virus.fa\n",
      "./string_protein_sequences (6).fa ./Hepatitis E virus.fa\n",
      "./string_protein_sequences (7).fa ./Human coronavirus 229E.fa\n",
      "./string_protein_sequences (8).fa ./Human hepatitis A virus.fa\n",
      "./string_protein_sequences (9).fa ./Human parechovirus 2.fa\n",
      "./string_protein_sequences (10).fa ./Human SARS coronavirus.fa\n",
      "./string_protein_sequences (11).fa ./Japanese encephalitis virus.fa\n",
      "./string_protein_sequences (12).fa ./Norwalk virus.fa\n",
      "./string_protein_sequences (13).fa ./Poliovirus type 1.fa\n",
      "./string_protein_sequences (14).fa ./Rubella virus.fa\n",
      "./string_protein_sequences (15).fa ./Semliki forest virus.fa\n",
      "./string_protein_sequences (16).fa ./Sindbis virus.fa\n",
      "./string_protein_sequences (17).fa ./West Nile virus.fa\n",
      "./string_protein_sequences (18).fa ./Yellow fever virus.fa\n"
     ]
    }
   ],
   "source": [
    "f = open('/Users/nikhitadamaraju/Desktop/Systems Biology/Project/RNA_positive_viruses/virus_list.txt')\n",
    "RNA_positive_virus_list = f.read().splitlines()  \n",
    "path = '/Users/nikhitadamaraju/Desktop/Systems Biology/Project/RNA_positive_viruses'\n",
    "os.chdir(path)\n",
    "filenames = glob.glob(\"./*.fa\")\n",
    "#storing filenames in order\n",
    "for i in range(0,len(RNA_positive_virus_list)):\n",
    "    search = '('+str(i)+')'\n",
    "    old = [x for x in filenames if search in x]\n",
    "    new = RNA_negative_virus_list[i]\n",
    "    new_path = './'+ new + \".fa\"\n",
    "    print(old[0],new_path)\n",
    "    os.rename(old[0],new_path)"
   ]
  },
  {
   "cell_type": "code",
   "execution_count": 4,
   "metadata": {},
   "outputs": [
    {
     "name": "stdout",
     "output_type": "stream",
     "text": [
      "./Human cytomegalovirus .fa ./Human_cytomegalovirus_.fa\n",
      "./Molluscum contagiosum virus.fa ./Molluscum_contagiosum_virus.fa\n",
      "./Human adenovirus C.fa ./Human_adenovirus_C.fa\n",
      "./Human herpesvirus 6B.fa ./Human_herpesvirus_6B.fa\n",
      "./Human herpesvirus 1.fa ./Human_herpesvirus_1.fa\n",
      "./Human papillomavirus type 5.fa ./Human_papillomavirus_type_5.fa\n",
      "./Varicella-zoster virus.fa ./Varicella-zoster_virus.fa\n",
      "./Human papillomavirus type 4.fa ./Human_papillomavirus_type_4.fa\n",
      "./Orf virus.fa ./Orf_virus.fa\n",
      "./Human papillomavirus type 16.fa ./Human_papillomavirus_type_16.fa\n",
      "./Human papillomavirus type 1a.fa ./Human_papillomavirus_type_1.fa\n",
      "./Human herpesvirus 8 type P.fa ./Human_herpesvirus_8_type_P.fa\n",
      "./Human herpesvirus 2.fa ./Human_herpesvirus_2.fa\n",
      "./Human herpesvirus 6A.fa ./Human_herpesvirus_6A.fa\n",
      "./Human papillomavirus type 18.fa ./Human_papillomavirus_type_18.fa\n",
      "./Variola virus.fa ./Variola_virus.fa\n",
      "./Yaba monkey tumor virus.fa ./Yaba_monkey_tumor_virus.fa\n",
      "./Hepatitis B virus.fa ./Hepatitis_B_virus.fa\n",
      "./Epstein-Barr virus.fa ./Epstein-Barr_virus.fa\n"
     ]
    }
   ],
   "source": [
    "#program to replace spaces with underscore in all filenames\n",
    "import os\n",
    "import glob\n",
    "\n",
    "f = open('/Users/nikhitadamaraju/Desktop/Systems Biology/Project/DNA_viruses/virus_list.txt')\n",
    "DNA_virus_list = f.read().splitlines()  \n",
    "path = '/Users/nikhitadamaraju/Desktop/Systems Biology/Project/DNA_viruses'\n",
    "os.chdir(path)\n",
    "filenames = glob.glob(\"./*.fa\")\n",
    "\n",
    "new_DNA_list = [x.replace(' ','_').strip(\".fa\").strip(\"\\/\") for x in filenames]\n",
    "\n",
    "#storing filenames in order\n",
    "for i in range(0,len(filenames)):  \n",
    "    old = filenames[i]\n",
    "    new = new_DNA_list[i]\n",
    "    new_path = './'+ new + \".fa\"\n",
    "    print(old,new_path)\n",
    "    os.rename(old,new_path)\n"
   ]
  },
  {
   "cell_type": "code",
   "execution_count": 40,
   "metadata": {},
   "outputs": [
    {
     "name": "stdout",
     "output_type": "stream",
     "text": [
      "Measles_virus.fa\n",
      "Hantaan_virus.fa\n",
      "Bunyavirus_La_Crosse.fa\n",
      "Rabies_virus.fa\n",
      "Human_metapneumovirus.fa\n",
      "Influenza_C_virus.fa\n",
      "Influenza_B_virus.fa\n",
      "Zaire_ebolavirus.fa\n",
      "Lymphocytic_choriomeningitis_virus.fa\n",
      "Hendra_virus.fa\n",
      "Lassa_virus.fa\n",
      "Vesicular_stomatitis_Indiana_virus.fa\n",
      "Rift_valley_fever_virus.fa\n",
      "Human_respiratory_syncytial_virus_B.fa\n",
      "Lake_Victoria_marburgvirus.fa\n",
      "Influenza_A_virus.fa\n",
      "Mumps_virus.fa\n"
     ]
    }
   ],
   "source": [
    "#program to replace spaces with underscore in all filenames\n",
    "import os\n",
    "import glob\n",
    "f = open('/Users/nikhitadamaraju/Desktop/Systems Biology/Project/RNA_negative_viruses/virus_list.txt')\n",
    "RNA_negative_virus_list = f.read().splitlines()  \n",
    "path = '/Users/nikhitadamaraju/Desktop/Systems Biology/Project/RNA_negative_viruses'\n",
    "os.chdir(path)\n",
    "filenames = glob.glob(\"./*.fa\")\n",
    "\n",
    "new_RNA_negative_list = [x.replace(' ','_').strip(\".fa\").strip(\"\\/\") for x in filenames]\n",
    "\n",
    "#storing filenames in order\n",
    "for i in range(0,len(filenames)):  \n",
    "    old = filenames[i]\n",
    "    new = new_RNA_negative_list[i]\n",
    "    new_path = './'+ new + \".fa\"\n",
    "    print(new_path.strip(\"./\"))\n",
    "    #os.rename(old,new_path)"
   ]
  },
  {
   "cell_type": "code",
   "execution_count": 39,
   "metadata": {},
   "outputs": [
    {
     "name": "stdout",
     "output_type": "stream",
     "text": [
      "Human_parechovirus_2.fa\n",
      "Yellow_fever_virus.fa\n",
      "Norwalk_virus.fa\n",
      "Dengue_virus_type_3.fa\n",
      "Japanese_encephalitis_virus.fa\n",
      "Dengue_virus_type_2.fa\n",
      "Human_coronavirus_229E.fa\n",
      "Human_SARS_coronavirus.fa\n",
      "Human_hepatitis_A_virus.fa\n",
      "West_Nile_virus.fa\n",
      "Rubella_virus.fa\n",
      "Semliki_forest_virus.fa\n",
      "Hepatitis_C_virus.fa\n",
      "Sindbis_virus.fa\n",
      "Poliovirus_type_1.fa\n",
      "Hepatitis_E_virus.fa\n",
      "Encephalomyocarditis_virus.fa\n",
      "Chikungunya_virus.fa\n",
      "Dengue_virus_type_4.fa\n"
     ]
    }
   ],
   "source": [
    "#program to replace spaces with underscore in all filenames\n",
    "import os\n",
    "import glob\n",
    "f = open('/Users/nikhitadamaraju/Desktop/Systems Biology/Project/RNA_positive_viruses/virus_list.txt')\n",
    "RNA_negative_virus_list = f.read().splitlines()  \n",
    "path = '/Users/nikhitadamaraju/Desktop/Systems Biology/Project/RNA_positive_viruses'\n",
    "os.chdir(path)\n",
    "filenames = glob.glob(\"./*.fa\")\n",
    "\n",
    "new_RNA_positive_list = [x.replace(' ','_').strip(\".fa\").strip(\"\\/\") for x in filenames]\n",
    "\n",
    "#storing filenames in order\n",
    "for i in range(0,len(filenames)):  \n",
    "    old = filenames[i]\n",
    "    new = new_RNA_positive_list[i]\n",
    "    new_path = './'+ new + \".fa\"\n",
    "    print(new_path.strip(\"./\"))\n",
    "    #os.rename(old,new_path)"
   ]
  },
  {
   "cell_type": "code",
   "execution_count": null,
   "metadata": {},
   "outputs": [],
   "source": []
  }
 ],
 "metadata": {
  "kernelspec": {
   "display_name": "Python 3",
   "language": "python",
   "name": "python3"
  },
  "language_info": {
   "codemirror_mode": {
    "name": "ipython",
    "version": 3
   },
   "file_extension": ".py",
   "mimetype": "text/x-python",
   "name": "python",
   "nbconvert_exporter": "python",
   "pygments_lexer": "ipython3",
   "version": "3.6.5"
  }
 },
 "nbformat": 4,
 "nbformat_minor": 2
}
