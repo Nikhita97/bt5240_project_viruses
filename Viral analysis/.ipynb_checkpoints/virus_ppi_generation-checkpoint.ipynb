{
 "cells": [
  {
   "cell_type": "code",
   "execution_count": 1,
   "metadata": {},
   "outputs": [],
   "source": [
    "#header files \n",
    "import pandas as pd\n",
    "import networkx as nx\n",
    "import csv\n",
    "\n",
    "#script to import tsv files containing viral-host interaction graph data\n",
    "f1 = open(\"/Users/nikhitadamaraju/Desktop/Systems Biology/Project/Viral analysis/Epstein_barr_virus.tsv\")\n",
    "f2 = open(\"/Users/nikhitadamaraju/Desktop/Systems Biology/Project/Viral analysis/Human_herpes_virus_1.tsv\")\n",
    "ebv = pd.read_csv(f1,delimiter='\\t',encoding='utf-8')\n",
    "hhv1 = pd.read_csv(f2,delimiter='\\t',encoding='utf-8')\n",
    "#filtering for entries that have a score greater than 0.8\n",
    "hhv1 = hhv1[hhv1['combined_score']>=0.9]\n",
    "ebv = ebv[ebv['combined_score']>=0.9]\n",
    "\n",
    "#storing high confidence ppi graphs in new csv file\n",
    "df_ebv = pd.DataFrame()\n",
    "df_ebv[['protein1','protein2','combined_score']] = ebv[['node1_external_id','node2_external_id','combined_score']]\n",
    "df_ebv.to_csv(\"ebv_ppi.csv\",index=False)\n",
    "\n",
    "df_hhv1 = pd.DataFrame()\n",
    "df_hhv1[['protein1','protein2','combined_score']] = hhv1[['node1_external_id','node2_external_id','combined_score']]\n",
    "df_hhv1.to_csv(\"hhv1_ppi.csv\",index=False)"
   ]
  },
  {
   "cell_type": "code",
   "execution_count": null,
   "metadata": {},
   "outputs": [],
   "source": []
  }
 ],
 "metadata": {
  "kernelspec": {
   "display_name": "Python 3",
   "language": "python",
   "name": "python3"
  },
  "language_info": {
   "codemirror_mode": {
    "name": "ipython",
    "version": 3
   },
   "file_extension": ".py",
   "mimetype": "text/x-python",
   "name": "python",
   "nbconvert_exporter": "python",
   "pygments_lexer": "ipython3",
   "version": "3.6.5"
  }
 },
 "nbformat": 4,
 "nbformat_minor": 2
}
