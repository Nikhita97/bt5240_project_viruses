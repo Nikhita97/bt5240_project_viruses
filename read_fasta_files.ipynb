{
 "cells": [
  {
   "cell_type": "markdown",
   "metadata": {},
   "source": [
    "Script to import virus-host interaction data from string viruses in .fa format\n",
    "This script splits the virus proteins (start with PRO---) and human proteins (start with 9606.ENSP---) in different columns "
   ]
  },
  {
   "cell_type": "code",
   "execution_count": 4,
   "metadata": {},
   "outputs": [],
   "source": [
    "import csv\n",
    "import pandas as pd"
   ]
  },
  {
   "cell_type": "code",
   "execution_count": 37,
   "metadata": {},
   "outputs": [],
   "source": [
    "f = open(\"string_protein_sequences_hepatitis_b.fa\") #reading fasta file\n",
    "lines = f.readlines()"
   ]
  },
  {
   "cell_type": "code",
   "execution_count": 40,
   "metadata": {},
   "outputs": [],
   "source": [
    "#reading all proteins and names into a list\n",
    "new_lines = []\n",
    "for line in lines: \n",
    "    if line.startswith(\">\"):\n",
    "        new_lines.append(line)"
   ]
  },
  {
   "cell_type": "code",
   "execution_count": 48,
   "metadata": {},
   "outputs": [],
   "source": [
    "#taking each element in new_lines and separating it into protein name and ID\n",
    "prot_id = []\n",
    "prot_name = []\n",
    "for item in new_lines:\n",
    "    name, ID,info = item. split(\"\\t\")   #splitting each item in list by tab \\t to separate names and IDs\n",
    "    prot_name.append(name[1:])    #adding protein name without \">\" to list prot_name\n",
    "    prot_id.append(ID)   #adding protein ID to list prot_id"
   ]
  },
  {
   "cell_type": "code",
   "execution_count": 51,
   "metadata": {},
   "outputs": [],
   "source": [
    "#storing all protein names and ID in dataframe \"df\"\n",
    "df = pd.DataFrame({'prot_id': prot_id,\n",
    "     'prot_name': prot_name\n",
    "    })\n"
   ]
  },
  {
   "cell_type": "code",
   "execution_count": 53,
   "metadata": {},
   "outputs": [
    {
     "data": {
      "text/html": [
       "<div>\n",
       "<style scoped>\n",
       "    .dataframe tbody tr th:only-of-type {\n",
       "        vertical-align: middle;\n",
       "    }\n",
       "\n",
       "    .dataframe tbody tr th {\n",
       "        vertical-align: top;\n",
       "    }\n",
       "\n",
       "    .dataframe thead th {\n",
       "        text-align: right;\n",
       "    }\n",
       "</style>\n",
       "<table border=\"1\" class=\"dataframe\">\n",
       "  <thead>\n",
       "    <tr style=\"text-align: right;\">\n",
       "      <th></th>\n",
       "      <th>prot_id</th>\n",
       "      <th>prot_name</th>\n",
       "    </tr>\n",
       "  </thead>\n",
       "  <tbody>\n",
       "    <tr>\n",
       "      <th>0</th>\n",
       "      <td>9606.ENSP00000221930</td>\n",
       "      <td>TGFB1</td>\n",
       "    </tr>\n",
       "    <tr>\n",
       "      <th>1</th>\n",
       "      <td>9606.ENSP00000258743</td>\n",
       "      <td>IL6</td>\n",
       "    </tr>\n",
       "    <tr>\n",
       "      <th>2</th>\n",
       "      <td>9606.ENSP00000261769</td>\n",
       "      <td>CDH1</td>\n",
       "    </tr>\n",
       "    <tr>\n",
       "      <th>3</th>\n",
       "      <td>9606.ENSP00000269305</td>\n",
       "      <td>TP53</td>\n",
       "    </tr>\n",
       "    <tr>\n",
       "      <th>4</th>\n",
       "      <td>9606.ENSP00000293288</td>\n",
       "      <td>BAX</td>\n",
       "    </tr>\n",
       "    <tr>\n",
       "      <th>5</th>\n",
       "      <td>9606.ENSP00000301633</td>\n",
       "      <td>BIRC5</td>\n",
       "    </tr>\n",
       "    <tr>\n",
       "      <th>6</th>\n",
       "      <td>9606.ENSP00000356438</td>\n",
       "      <td>PTGS2</td>\n",
       "    </tr>\n",
       "    <tr>\n",
       "      <th>7</th>\n",
       "      <td>9606.ENSP00000359531</td>\n",
       "      <td>GTF2B</td>\n",
       "    </tr>\n",
       "    <tr>\n",
       "      <th>8</th>\n",
       "      <td>9606.ENSP00000387699</td>\n",
       "      <td>CREB1</td>\n",
       "    </tr>\n",
       "    <tr>\n",
       "      <th>9</th>\n",
       "      <td>9606.ENSP00000398698</td>\n",
       "      <td>TNF</td>\n",
       "    </tr>\n",
       "    <tr>\n",
       "      <th>10</th>\n",
       "      <td>10407.CAPSD_HBVCJ</td>\n",
       "      <td>CAPSD_HBVCJ</td>\n",
       "    </tr>\n",
       "    <tr>\n",
       "      <th>11</th>\n",
       "      <td>10407.DPOL_HBVCJ</td>\n",
       "      <td>P</td>\n",
       "    </tr>\n",
       "    <tr>\n",
       "      <th>12</th>\n",
       "      <td>10407.HBEAG_HBVCJ</td>\n",
       "      <td>C</td>\n",
       "    </tr>\n",
       "    <tr>\n",
       "      <th>13</th>\n",
       "      <td>10407.HBSAG_HBVCJ</td>\n",
       "      <td>LHB</td>\n",
       "    </tr>\n",
       "    <tr>\n",
       "      <th>14</th>\n",
       "      <td>10407.X_HBVCJ</td>\n",
       "      <td>X</td>\n",
       "    </tr>\n",
       "  </tbody>\n",
       "</table>\n",
       "</div>"
      ],
      "text/plain": [
       "                 prot_id    prot_name\n",
       "0   9606.ENSP00000221930        TGFB1\n",
       "1   9606.ENSP00000258743          IL6\n",
       "2   9606.ENSP00000261769         CDH1\n",
       "3   9606.ENSP00000269305         TP53\n",
       "4   9606.ENSP00000293288          BAX\n",
       "5   9606.ENSP00000301633        BIRC5\n",
       "6   9606.ENSP00000356438        PTGS2\n",
       "7   9606.ENSP00000359531        GTF2B\n",
       "8   9606.ENSP00000387699        CREB1\n",
       "9   9606.ENSP00000398698          TNF\n",
       "10     10407.CAPSD_HBVCJ  CAPSD_HBVCJ\n",
       "11      10407.DPOL_HBVCJ            P\n",
       "12     10407.HBEAG_HBVCJ            C\n",
       "13     10407.HBSAG_HBVCJ          LHB\n",
       "14         10407.X_HBVCJ            X"
      ]
     },
     "execution_count": 53,
     "metadata": {},
     "output_type": "execute_result"
    }
   ],
   "source": [
    "df"
   ]
  },
  {
   "cell_type": "code",
   "execution_count": 54,
   "metadata": {},
   "outputs": [],
   "source": [
    "#storing dataframe into csv file\n",
    "df.to_csv('string_viruses.csv', index=False, header=False)"
   ]
  },
  {
   "cell_type": "code",
   "execution_count": null,
   "metadata": {},
   "outputs": [],
   "source": []
  }
 ],
 "metadata": {
  "kernelspec": {
   "display_name": "Python 3",
   "language": "python",
   "name": "python3"
  },
  "language_info": {
   "codemirror_mode": {
    "name": "ipython",
    "version": 3
   },
   "file_extension": ".py",
   "mimetype": "text/x-python",
   "name": "python",
   "nbconvert_exporter": "python",
   "pygments_lexer": "ipython3",
   "version": "3.6.5"
  }
 },
 "nbformat": 4,
 "nbformat_minor": 2
}
