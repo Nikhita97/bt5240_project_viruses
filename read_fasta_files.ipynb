{
 "cells": [
  {
   "cell_type": "markdown",
   "metadata": {},
   "source": [
    "Script to import virus-host interaction data from string viruses in .fa format\n",
    "This script splits the virus proteins (start with PRO---) and human proteins (start with 9606.ENSP---) in different columns "
   ]
  },
  {
   "cell_type": "code",
   "execution_count": 4,
   "metadata": {},
   "outputs": [],
   "source": [
    "import csv\n",
    "import pandas as pd\n",
    "from tkinter import Tk\n",
    "from tkinter.filedialog import askopenfilename"
   ]
  },
  {
   "cell_type": "code",
   "execution_count": null,
   "metadata": {},
   "outputs": [],
   "source": [
    "Tk().withdraw()\n",
    "source_file = askopenfilename()\n",
    "print(source_file)\n",
    "human_prot_file = input(\"Enter human protein file name with .csv: \")\n",
    "virus_prot_file = input(\"Enter virus protein file name with .csv: \")\n",
    "host_vir_file   = input(\"Enter host-virus protein file name with .csv: \")\n",
    "\n",
    "\n",
    "f = open(source_file) #reading fasta file\n",
    "lines = f.readlines()\n",
    "\n",
    "newlines = []\n",
    "prot_id = []\n",
    "prot_name = []\n",
    "prot_id1 = []\n",
    "prot_name1 = []\n",
    "for line in lines: \n",
    "    if line.startswith(\">\"):\n",
    "        line1 = line\n",
    "        name, ID,info = line1.split(\"\\t\")   #splitting each item in list by tab \\t to separate names and IDs\n",
    "        prot_name.append(name[1:])       #adding protein name without \">\" to list prot_name\n",
    "        prot_id.append(ID)               #adding protein ID to list prot_id\n",
    "        #storing host virus protein names and ID in dataframe \"df\"\n",
    "        df = pd.DataFrame({'prot_id': prot_id,\n",
    "                              'prot_name': prot_name})\n",
    "        if ID[:9] == '9606.ENSP':\n",
    "           prot_name.append(name[1:])       #adding protein name without \">\" to list prot_name\n",
    "           prot_id.append(ID)               #adding protein ID to list prot_id\n",
    "           #storing human protein names and ID in dataframe \"df1\"\n",
    "           df1 = pd.DataFrame({'prot_id': prot_id,\n",
    "                              'prot_name': prot_name})\n",
    "          \n",
    "          # df.to_csv(human_prot_file, index=False, header=False)\n",
    "        elif ID[:9] != '9606.ENSP':\n",
    "            prot_name1.append(name[1:])       #adding protein name without \">\" to list prot_name\n",
    "            prot_id1.append(ID)               #adding protein ID to list prot_id\n",
    "            #storing virus protein names and ID in dataframe \"df2\"\n",
    "            df2 = pd.DataFrame({'prot_id': prot_id1,\n",
    "                              'prot_name': prot_name1})\n",
    "           # df1.to_csv(virus_prot_file, index=False, header=False)\n",
    "\n",
    "\n",
    "#storing dataframe into csv file\n",
    "df.to_csv(host_vir_file, index=False, header=False)           \n",
    "df1.to_csv(human_prot_file, index=False, header=False)\n",
    "df2.to_csv(virus_prot_file, index=False, header=False)"
   ]
  },
  {
   "cell_type": "code",
   "execution_count": null,
   "metadata": {},
   "outputs": [],
   "source": []
  }
 ],
 "metadata": {
  "kernelspec": {
   "display_name": "Python 3",
   "language": "python",
   "name": "python3"
  },
  "language_info": {
   "codemirror_mode": {
    "name": "ipython",
    "version": 3
   },
   "file_extension": ".py",
   "mimetype": "text/x-python",
   "name": "python",
   "nbconvert_exporter": "python",
   "pygments_lexer": "ipython3",
   "version": "3.7.1"
  }
 },
 "nbformat": 4,
 "nbformat_minor": 2
}
